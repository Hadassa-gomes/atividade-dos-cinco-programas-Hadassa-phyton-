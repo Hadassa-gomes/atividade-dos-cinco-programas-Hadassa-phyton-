{
 "cells": [
  {
   "cell_type": "markdown",
   "metadata": {},
   "source": [
    "PROGRAMA 1 A COMPLETO. "
   ]
  },
  {
   "cell_type": "code",
   "execution_count": 2,
   "metadata": {},
   "outputs": [
    {
     "name": "stdout",
     "output_type": "stream",
     "text": [
      "resultado é 30.0\n"
     ]
    }
   ],
   "source": [
    "numero1t = int(input('Insira um número inteiro:'))\n",
    "numero2t = int(input('insira outro número inteiro:'))\n",
    "numero3r = float(input('insira um número real:'))\n",
    "soma12 = numero1t * 2 + numero2t / 2\n",
    "print('resultado é', soma12)"
   ]
  },
  {
   "cell_type": "markdown",
   "metadata": {},
   "source": [
    "PROGRAMA 1B COMPLETO"
   ]
  },
  {
   "cell_type": "code",
   "execution_count": 3,
   "metadata": {},
   "outputs": [
    {
     "name": "stdout",
     "output_type": "stream",
     "text": [
      "resultado é 128.0\n"
     ]
    }
   ],
   "source": [
    "numero1t = int(input('Insira um número inteiro:'))\n",
    "numero2t = int(input('insira outro número inteiro:'))\n",
    "numero3r = float(input('insira um número real:'))\n",
    "soma13 = numero1t * 3 + numero3r ** 3\n",
    "print('resultado é', soma13)"
   ]
  },
  {
   "cell_type": "markdown",
   "metadata": {},
   "source": [
    "PROGRAMA 2 COMPLETO"
   ]
  },
  {
   "cell_type": "code",
   "execution_count": 7,
   "metadata": {},
   "outputs": [
    {
     "name": "stdout",
     "output_type": "stream",
     "text": [
      "o segundo número é o maior 13.0\n"
     ]
    }
   ],
   "source": [
    "valor1 = float(input('Insira um número aleatório:'))\n",
    "valor2 = float(input('insira outro número aleatório:'))\n",
    "if (valor1 > valor2): \n",
    "    print('o primeiro número é o maior', valor1)\n",
    "else: \n",
    "    print('o segundo número é o maior', valor2)\n"
   ]
  },
  {
   "cell_type": "markdown",
   "metadata": {},
   "source": [
    "PROGRAMA 3 COMPLETO"
   ]
  },
  {
   "cell_type": "code",
   "execution_count": 9,
   "metadata": {},
   "outputs": [
    {
     "name": "stdout",
     "output_type": "stream",
     "text": [
      "seu número é negativo\n"
     ]
    }
   ],
   "source": [
    "valorx = float(input('Insira um número aleatório positivo ou negativo:'))\n",
    "if(valorx > 0):\n",
    "    print('seu número é positivo')\n",
    "else: \n",
    "    print('seu número é negativo')\n",
    "\n",
    "\n"
   ]
  },
  {
   "cell_type": "markdown",
   "metadata": {},
   "source": [
    "PROGRAMA 4 COMPLETO\n"
   ]
  },
  {
   "cell_type": "code",
   "execution_count": 17,
   "metadata": {},
   "outputs": [
    {
     "name": "stdout",
     "output_type": "stream",
     "text": [
      "reprovado\n"
     ]
    }
   ],
   "source": [
    "nota1 = float(input('Insira sua primeira nota:'))\n",
    "nota2 = float(input('insira sua segunda nota:'))\n",
    "media = 7\n",
    "mediax = (nota1 + nota2) / 2\n",
    "if(mediax > media):\n",
    "    print('aprovado')\n",
    "else: \n",
    "    print('reprovado')"
   ]
  },
  {
   "cell_type": "code",
   "execution_count": 19,
   "metadata": {},
   "outputs": [
    {
     "name": "stdout",
     "output_type": "stream",
     "text": [
      "o segundo é o maior\n"
     ]
    }
   ],
   "source": [
    "numero1 = float(input('Insira um número aleatório:'))\n",
    "numero2 = float(input('insira outro número aleatório:'))\n",
    "numero3 = float(input('insira um terceiro número aleatório'))\n",
    "if(numero1 > numero2 and numero3):\n",
    "    print('o primeiro é o maior')\n",
    "else:\n",
    "    if(numero2 > numero1 and numero3):\n",
    "        print('o segundo é o maior')\n",
    "    else: \n",
    "        if(numero3 > numero2 and numero1):\n",
    "            print('o terceiro é o maior')"
   ]
  }
 ],
 "metadata": {
  "kernelspec": {
   "display_name": "Python 3",
   "language": "python",
   "name": "python3"
  },
  "language_info": {
   "codemirror_mode": {
    "name": "ipython",
    "version": 3
   },
   "file_extension": ".py",
   "mimetype": "text/x-python",
   "name": "python",
   "nbconvert_exporter": "python",
   "pygments_lexer": "ipython3",
   "version": "3.12.1"
  }
 },
 "nbformat": 4,
 "nbformat_minor": 2
}
